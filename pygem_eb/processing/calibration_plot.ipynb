{
 "cells": [
  {
   "cell_type": "code",
   "execution_count": 5,
   "metadata": {},
   "outputs": [],
   "source": [
    "import xarray as xr\n",
    "import matplotlib.pyplot as plt\n",
    "import matplotlib as mpl\n",
    "import pandas as pd\n",
    "from plotting_fxns import *"
   ]
  },
  {
   "cell_type": "code",
   "execution_count": 22,
   "metadata": {},
   "outputs": [],
   "source": [
    "dslist = []\n",
    "ice_dates = []\n",
    "for i in range(0,16):\n",
    "    fp = f'/home/claire/research/Output/EB/Gulkana_cal{i}.nc'\n",
    "    ds,startdate,enddate = getds(fp)\n",
    "    ice_exposed = ds.isel(time=np.where(ds['snowdepth'].values == 0)[0])\n",
    "    ice_time = ice_exposed.coords['time'].values[0]\n",
    "    dslist.append(ds)"
   ]
  },
  {
   "cell_type": "markdown",
   "metadata": {},
   "source": [
    "Compare layer temperatures at chosen dates"
   ]
  },
  {
   "cell_type": "code",
   "execution_count": null,
   "metadata": {},
   "outputs": [],
   "source": [
    "dates = pd.date_range(startdate,enddate,)"
   ]
  },
  {
   "cell_type": "code",
   "execution_count": 8,
   "metadata": {},
   "outputs": [],
   "source": [
    "temp_df = pd.read_csv('~/research/MB_data/Gulkana/field_data/iButton_2023_all.csv')\n",
    "temp_df = temp_df.set_index(pd.to_datetime(temp_df['Datetime']))\n",
    "temp_df = temp_df.drop(columns='Datetime')\n",
    "height_DATA = 3.5 - np.array([.1,.4,.8,1.2,1.6,2,2.4,2.8,3.2,3.49])"
   ]
  },
  {
   "cell_type": "code",
   "execution_count": null,
   "metadata": {},
   "outputs": [],
   "source": []
  },
  {
   "cell_type": "code",
   "execution_count": null,
   "metadata": {},
   "outputs": [],
   "source": [
    "    w = 2 # width of each plot\n",
    "    n = int(np.ceil(len(ds_list)/2))\n",
    "    n = 2 if n == 1 else n\n",
    "\n",
    "    # Initialize plots\n",
    "    fig,ax = plt.subplots(rows,int(n/rows),sharex=True,figsize=(w*n/rows,6),layout='constrained')\n",
    "    ax = ax.flatten()\n",
    "\n",
    "    # Initialize time and comparison dataset\n",
    "    if len(time) == 2:\n",
    "        start = pd.to_datetime(time[0])\n",
    "        end = pd.to_datetime(time[1])\n",
    "        time = pd.date_range(start,end,freq='h')\n",
    "    temp_df = temp_df.set_index(pd.to_datetime(temp_df['Datetime']))\n",
    "    temp_df = temp_df.drop(columns='Datetime')\n",
    "    height_DATA = 3.5 - np.array([.1,.4,.8,1.2,1.6,2,2.4,2.8,3.2,3.49])\n",
    "\n",
    "    c_iter = iter(plt.cm.Dark2(np.linspace(0,1,8)))\n",
    "    date_form = mpl.dates.DateFormatter('%d %b')\n",
    "    plot_idx = 0\n",
    "    for i,ds in enumerate(ds_list):\n",
    "        # get variable and value for labeling\n",
    "        var,val = labels[i].split('=')\n",
    "\n",
    "        # Need to interpolate data for comparison to model depths -- loop through timesteps\n",
    "        all_MODEL = np.array([])\n",
    "        all_DATA = np.array([])\n",
    "        all_TIME = np.array([])\n",
    "        plot_MODEL = np.array([])\n",
    "        plot_DATA = np.array([])\n",
    "        for hour in time:\n",
    "            # Extract layer heights\n",
    "            lheight = ds.sel(time=hour,bin=0)['layerheight'].to_numpy()\n",
    "            # Index snow bins\n",
    "            density = ds.sel(time=hour,bin=0)['layerdensity'].to_numpy()\n",
    "            density[np.where(np.isnan(density))[0]] = 1e5\n",
    "            full_bins = np.where(density < 700)[0]\n",
    "            if len(full_bins) < 1:\n",
    "                break\n",
    "            lheight = lheight[full_bins]\n",
    "            icedepth = np.sum(lheight) + lheight[-1] / 2\n",
    "\n",
    "            # Get property and absolute depth\n",
    "            temp_MODEL = ds.sel(time=hour,bin=0)['layertemp'].to_numpy()[full_bins]\n",
    "            ldepth = np.array([np.sum(lheight[:i+1])-(lheight[i]/2) for i in range(len(lheight))])\n",
    "            height_above_ice = icedepth - ldepth\n",
    "\n",
    "            # Interpolate temperature data to model heights\n",
    "            temp_at_iButtons = temp_df.loc[hour].to_numpy().astype(float)\n",
    "            temp_DATA = np.interp(height_above_ice,height_DATA,temp_at_iButtons)\n",
    "            all_MODEL = np.append(all_MODEL,temp_MODEL)\n",
    "            all_DATA = np.append(all_DATA,temp_DATA)\n",
    "            all_TIME = np.append(all_TIME,hour)\n",
    "\n",
    "            # Extract mean snow column temperature to plot\n",
    "            temp_no_above_0 = temp_df.mask(temp_df>=0.2,None).loc[hour].to_numpy().astype(float)\n",
    "            plot_MODEL = np.append(plot_MODEL,np.average(temp_MODEL,weights=lheight))\n",
    "            plot_DATA = np.append(plot_DATA,np.mean(temp_no_above_0))\n",
    "        temp_mse = mean_squared_error(all_DATA,all_MODEL)\n",
    "        temp_rmse = np.mean(temp_mse)\n",
    "        label = f'{val}: {temp_rmse:.3f}'\n",
    "\n",
    "        # get color (loops itself)\n",
    "        try:\n",
    "            c = next(c_iter)\n",
    "        except:\n",
    "            c_iter = iter([plt.cm.Dark2(i) for i in range(8)])\n",
    "            c = next(c_iter)\n",
    "\n",
    "        # plot temp_df once per plot\n",
    "        if i % 2 == 0:\n",
    "            ax[plot_idx].plot(all_TIME,plot_DATA,label='iButtons',linestyle='--')\n",
    "\n",
    "        # plot daily melt\n",
    "        time = pd.date_range(time[0],end,freq='h')\n",
    "        ax[plot_idx].plot(all_TIME,plot_MODEL,label=label,color=c,linewidth=0.8)\n",
    "        ax[plot_idx].set_title(var)\n",
    "        ax[plot_idx].xaxis.set_major_formatter(date_form)\n",
    "        ax[plot_idx].set_ylabel('Average Snow Temperature (C)')\n",
    "        ax[plot_idx].legend()\n",
    "\n",
    "        if i % 2 != 0:\n",
    "            plot_idx += 1\n",
    "    fig.suptitle(t)\n",
    "    plt.show()"
   ]
  }
 ],
 "metadata": {
  "kernelspec": {
   "display_name": "eb_env",
   "language": "python",
   "name": "python3"
  },
  "language_info": {
   "codemirror_mode": {
    "name": "ipython",
    "version": 3
   },
   "file_extension": ".py",
   "mimetype": "text/x-python",
   "name": "python",
   "nbconvert_exporter": "python",
   "pygments_lexer": "ipython3",
   "version": "3.11.7"
  }
 },
 "nbformat": 4,
 "nbformat_minor": 2
}
