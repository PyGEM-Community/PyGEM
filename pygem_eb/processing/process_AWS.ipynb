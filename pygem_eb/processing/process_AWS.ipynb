{
 "cells": [
  {
   "cell_type": "markdown",
   "metadata": {},
   "source": [
    "# AWS Data Processing\n",
    "This Jupyter notebook contains code to process AWS data to a standardized format for the PyGEM-EB model. Any data that is not passed from the AWS will be grabbed from the ERA5-hourly dataset. Note that this code may not be comprehensive for all errors that arise from the formatting of a specific dataset."
   ]
  },
  {
   "cell_type": "code",
   "execution_count": 1,
   "metadata": {},
   "outputs": [],
   "source": [
    "import numpy as np\n",
    "import os\n",
    "import xarray as xr\n",
    "import logging\n",
    "import pandas as pd\n",
    "import matplotlib.pyplot as plt\n",
    "debug = True"
   ]
  },
  {
   "attachments": {},
   "cell_type": "markdown",
   "metadata": {},
   "source": [
    "## 0. Define variables\n",
    "Fill out the cell below to set up the glacier being accessed and the filepaths."
   ]
  },
  {
   "cell_type": "code",
   "execution_count": 2,
   "metadata": {},
   "outputs": [],
   "source": [
    "# Storglaciaren: 08.00213, Gulkana: 01.00570, Artesonraju: 16.02444, Saint-Sorlin: 11.03674\n",
    "# GLACIER STUFF\n",
    "glac_no = ['01.00570']          # RGI Glacier ID\n",
    "station = 'gulkana1725'         # You choose: descriptive name for log and output\n",
    "elev = 1725                     # Elevation of AWS in m a.s.l.\n",
    "\n",
    "# USER SPECIFIED\n",
    "data_min_percentage = 0.5       # Below this threshold, data will be thrown out and filled from the GCM rather than interpolated\n",
    "\n",
    "# FILEPATHS\n",
    "fp = '/home/claire/research/climate_data/AWS/'          # Filepath to data\n",
    "data_fn = 'Gulkana/LVL2/gulkana1725_hourly_LVL2.csv'    # File name of data\n",
    "# data_fn = 'SaintSorlin/SaintSorlin_hourly.csv'\n",
    "gcm_fp = '/home/claire/research/CDS/'                   # Filepath to GCM data used to fill holes\n",
    "attr_fp = '/home/claire/research/RGI/rgi60/00_rgi60_attribs/'        # Filepath to RGI data\n",
    "export_fn = fp+'Preprocessed/'+station+'_hourly.csv'\n",
    "# 'Storglaciaren/SITES_MET_TRS_SGL_20130417-20130912_15MIN.csv'\n",
    "# 'Artesonraju/data_aws_peru.csv'"
   ]
  },
  {
   "cell_type": "markdown",
   "metadata": {},
   "source": [
    "## 1. Load Data\n",
    "From the output of the first cell, make sure the columns have been properly loaded. The cell below contains a dictionary with possible names for each actual variable name. If the column names printed are missing, add those here, and update the name for the time variable.\n",
    "\n",
    "If the data is sub-hourly, resampling requires the variable name for precipitation to be explicitly stated in 'precip_vn'."
   ]
  },
  {
   "cell_type": "code",
   "execution_count": 3,
   "metadata": {},
   "outputs": [
    {
     "name": "stdout",
     "output_type": "stream",
     "text": [
      "['local_time' 'site_temp_min' 'site_temp_max' 'site_temp_WMO'\n",
      " 'site_temp_USGS' 'Precip_Weighing_Incremental' 'WindSpeed' 'RadiationIn'\n",
      " 'RadiationOut' 'VecAvgWindDir']\n"
     ]
    }
   ],
   "source": [
    "# Read in the data and make sure the columns were correctly loaded\n",
    "# NOTE this step is likely to cause errors that can be fixed by adjusting the input arguments, for example delim_whitespace\n",
    "rows_to_skip = 0     # Number of rows that contain text at the beginning of the file (34 for Storglaciaren)\n",
    "df = pd.read_csv(fp + data_fn,skiprows=rows_to_skip,delim_whitespace=False)\n",
    "print(df.columns.to_numpy())"
   ]
  },
  {
   "cell_type": "code",
   "execution_count": 4,
   "metadata": {},
   "outputs": [],
   "source": [
    "# Fill out after executing above to check the variable names for time and precipitation\n",
    "time_vn = 'local_time' \n",
    "names = {'temp':['site_temp_USGS','temperature','Tair_aws','temp','TA_2.0m','T'],\n",
    "            'tp':['Precip_Weighing_Incremental','precipitation','Ptotal_aws','tp','P'],\n",
    "            'rh':['RelHum','RH','rh','rH','RH_aws','RH_2.0m'],\n",
    "            'SWin':['RadiationIn','SWin','SWin_aws','SW_IN'],\n",
    "            'SWout':['RadiationOut','SWout','SWout_aws','SW_out','SW_OUT'],\n",
    "            'LWin':['LWRadiationIn','LWin','LWin_aws','LW_in','LW_IN'],\n",
    "            'LWout':['LWRadiationOut','LWout','LWout_aws','LW_OUT'],\n",
    "            'wind':['WindSpeed','wind','Wind','ws_aws','WS'],\n",
    "            'winddir':['VecAvgWindDir','WindDir','Winddir','winddir','WD'],\n",
    "            'sp':['barom','sp','press','Press_aws','Barom'],\n",
    "            'tcc':['cloud_fraction','tcc','CCF','CCF_aws']}\n",
    "\n",
    "precip_vn = 'P'     # This line can be skipped if the data is already hourly"
   ]
  },
  {
   "cell_type": "code",
   "execution_count": 5,
   "metadata": {},
   "outputs": [],
   "source": [
    "# Space for extra preprocessing if opening the file isn't enough:\n",
    "# n = len(df['TIMESTAMP'])\n",
    "# store = []\n",
    "# for i in range(n):\n",
    "#     datetime = str(df.index[i]) +' '+ df['TIMESTAMP'][i]\n",
    "#     store.append(datetime)\n",
    "# df['TIMESTAMP'] = store"
   ]
  },
  {
   "attachments": {},
   "cell_type": "markdown",
   "metadata": {},
   "source": [
    "## 2. Launch logger\n",
    "The logger stores information regarding the process and is saved alongside the final output .csv."
   ]
  },
  {
   "cell_type": "code",
   "execution_count": 6,
   "metadata": {},
   "outputs": [],
   "source": [
    "logger = logging.getLogger()\n",
    "fhandler = logging.FileHandler(filename = export_fn.replace('csv','log'))\n",
    "logger.addHandler(fhandler)\n",
    "logger.setLevel(logging.DEBUG)\n",
    "\n",
    "# Check\n",
    "today = str(pd.Timestamp.today()).replace('-','_')[0:10]\n",
    "logger.info(f'Data for {station} prepared on {today}')"
   ]
  },
  {
   "attachments": {},
   "cell_type": "markdown",
   "metadata": {},
   "source": [
    "## 3. Resample to hourly\n",
    "Add the time index to the dataframe. If the original data has a sub-hourly frequency, resample by taking averages of each variable, with the exception of precipitation which is summed."
   ]
  },
  {
   "cell_type": "code",
   "execution_count": 7,
   "metadata": {},
   "outputs": [
    {
     "name": "stdout",
     "output_type": "stream",
     "text": [
      "Data extends from 2013-03-19 17:00:00 to 2019-04-27 09:00:00 with frequency 60.0 min\n"
     ]
    }
   ],
   "source": [
    "# Set time as the dataframe index and remove the time column\n",
    "data_start = pd.to_datetime(df[time_vn][0])\n",
    "data_end = pd.to_datetime(df[time_vn].to_numpy()[-1])\n",
    "freq = pd.to_datetime(df[time_vn][1]) - data_start\n",
    "print(f'Data extends from {data_start} to {data_end} with frequency {freq.seconds / 60} min')\n",
    "df = df.set_index(pd.date_range(data_start,data_end,freq=str(round(freq.seconds/60))+'T'))\n",
    "df = df.drop(time_vn,axis=1)\n",
    "ntimesteps = np.shape(pd.date_range(data_start,data_end,freq='H'))[0]\n",
    "\n",
    "# Resample hourly\n",
    "if freq.seconds / 3600 < 1:\n",
    "    # df[precip_vn] = df[precip_vn].resample('H').sum()\n",
    "    cols_noP = np.delete(df.columns.to_numpy(),np.where(df.columns.to_numpy()=='P'))\n",
    "    df[cols_noP] = df[cols_noP].resample('H').mean()\n",
    "    df = df.loc[pd.date_range(data_start,data_end,freq='H')]"
   ]
  },
  {
   "attachments": {},
   "cell_type": "markdown",
   "metadata": {},
   "source": [
    "## 4. Rename variables\n",
    "The following code should rename inconsistent naming to that used in PyGEM-EB. It will print any variable names that were passed from the original file but were not renamed. Check this list to make sure this list doesn't contain any data you need, as it will be removed in the next step.\n",
    "\n",
    "! If this list contains a data variable you need, the printed name was not included in the list of possible options. Uncomment the block of code labeled 'UPDATE NAMES', add the corresponding variable names, and rerun the renaming block. (Or manually add these names to the 'names' variable above.)"
   ]
  },
  {
   "cell_type": "code",
   "execution_count": 8,
   "metadata": {},
   "outputs": [
    {
     "name": "stdout",
     "output_type": "stream",
     "text": [
      "Variables were not renamed, including:\n",
      "['site_temp_min', 'site_temp_max', 'site_temp_WMO']\n"
     ]
    }
   ],
   "source": [
    "# RENAMING\n",
    "drop_vars = []\n",
    "all_vars = ['temp','tp','rh','SWin','SWout','LWin','LWout','wind','winddir','sp','tcc']\n",
    "for var in df.columns.to_numpy():\n",
    "    renamed = False\n",
    "    for var_check in all_vars:\n",
    "        if var in names[var_check]:\n",
    "            df = df.rename(columns={var:var_check})\n",
    "            all_vars.remove(var_check)\n",
    "            renamed = True\n",
    "    if not renamed:\n",
    "        drop_vars.append(var)\n",
    "if len(drop_vars) > 0:\n",
    "    print('Variables were not renamed, including:')\n",
    "    print(drop_vars)\n",
    "else:\n",
    "    drop_vars = [0]"
   ]
  },
  {
   "cell_type": "code",
   "execution_count": 9,
   "metadata": {},
   "outputs": [],
   "source": [
    "# UPDATE NAMES\n",
    "# var_to_fill = 'LWin'\n",
    "# new_name = 'LW_IN'\n",
    "# names[var_to_fill].append(new_name)"
   ]
  },
  {
   "attachments": {},
   "cell_type": "markdown",
   "metadata": {},
   "source": [
    "## 5. Fill data gaps (GCM or interpolation)\n",
    "Several variables are hard requirements for the model to run: temperature, precipitation, RH, wind speed, shortwave radiation, barometric pressure and cloud cover fraction. Check which are missing and fill them from ERA5-hourly data. Then fill the remainder of data by interpolation. The default method uses cubic spline interpolation, but this can be easily edited in the df.interpolate() command."
   ]
  },
  {
   "cell_type": "code",
   "execution_count": 10,
   "metadata": {},
   "outputs": [],
   "source": [
    "def getERA5Coords(glac_no):\n",
    "    \"\"\"\n",
    "    Gets the ERA5-Land cell coordinates of the cell where the glacier lies.\n",
    "    \n",
    "    Parameters\n",
    "    ----------\n",
    "    glac_no : str\n",
    "        RGI glacier ID\n",
    "    \"\"\"\n",
    "    region = glac_no[:2]\n",
    "\n",
    "    # Open RGI attributes file for the region\n",
    "    for fn in os.listdir(attr_fp):\n",
    "        if region in fn and 'Zone' not in fn:\n",
    "            attr_df = pd.read_csv(attr_fp+fn,encoding='unicode_escape')\n",
    "    attr_df['RGIId'] = [str(attr_df['RGIId'].values[i])[6:] for i in range(len(attr_df.index))]\n",
    "    attr_df = attr_df.set_index('RGIId')\n",
    "\n",
    "    cenlat = attr_df['CenLat'].loc[glac_no]\n",
    "    cenlon = attr_df['CenLon'].loc[glac_no]\n",
    "\n",
    "    # Round such that the cell is designated to the 0.1 degree (grid size for ERA5-Land)\n",
    "    cenlat = np.floor(cenlat*10)/10\n",
    "    cenlon = np.floor(cenlon*10)/10\n",
    "    return [cenlat,cenlon]"
   ]
  },
  {
   "cell_type": "code",
   "execution_count": 11,
   "metadata": {},
   "outputs": [],
   "source": [
    "def fill_and_remove_variables(df,ERA5_cell,drop_vars=[0]):\n",
    "    \"\"\"\n",
    "    Drops any variables which are unnecessary, passed by drop_vars, and checks if each necessary\n",
    "    variable is there. If not, the variable is filled from ERA5-hourly.\n",
    "\n",
    "    Parameters\n",
    "    ----------\n",
    "    df : pd.DataFrame\n",
    "        Dataframe containing AWS data\n",
    "    drop_vars : list\n",
    "        List of names of variables to drop\n",
    "    ERA5_cell : list-like\n",
    "        List of (lat,lon) values for the ERA5-Land cell where the glacier lies\n",
    "    \"\"\"\n",
    "    vars = df.columns.to_numpy()\n",
    "    nans = np.zeros(ntimesteps)\n",
    "    nans[:] = np.nan\n",
    "\n",
    "    # Add any specific revisions that need to be made between data columns. \n",
    "    # For example if there are two precip sensors, active at different times, merge the data.\n",
    "    if 'Precip_Stage_Incremental' in vars:\n",
    "        df.tp.fillna(df.Precip_Stage_Incremental*1.48, inplace=True)\n",
    "    \n",
    "    # Drop the variables that don't contain relevant data\n",
    "    if drop_vars[0] in vars:\n",
    "        df = df.drop(drop_vars,axis=1)\n",
    "\n",
    "    # Log which variables will be filled with GCM data\n",
    "    all_vars = ['temp','tp','rh','SWin','wind','winddir','tcc','sp']\n",
    "    fill_vars = []\n",
    "    for var in all_vars:\n",
    "        if var not in vars:\n",
    "            logger.info(f'Variable {var} not in data; filling from ERA5')\n",
    "\n",
    "            lat,lon = ERA5_cell\n",
    "            # Set filepath for the lat, lon and variable\n",
    "            if glac_no == ['01.00570']:\n",
    "                var_fp = f'/home/claire/research/climate_data/ERA5/ERA5_hourly/ERA5_{var}_hourly.nc'\n",
    "            else:\n",
    "                var_fp = gcm_fp + f'ERA5_{var}_{lat:.0f}_{lon:.0f}_hourly.nc'\n",
    "\n",
    "            # RH handled using dewpoint temperature\n",
    "            if var == 'rh':\n",
    "                var = 'dtemp'\n",
    "                var_fp = var_fp.replace('rh','dtemp')\n",
    "\n",
    "            # Check if ERA5 data exists for the variable, lat and lon\n",
    "            if not os.path.exists(var_fp):\n",
    "                logger.error(f'ERA5 hourly {var} datafile does not exist for {ERA5_cell}, download necessary')\n",
    "                fill_vars.append(var)\n",
    "            else:\n",
    "                da = xr.open_dataarray(var_fp)\n",
    "                df[var] = da.loc[np.datetime64(data_start):np.datetime64(data_end)].values[:,0,0]\n",
    "    \n",
    "    # Some variables are not necessary, but still must exist as NaNs\n",
    "    unnecessary_vars = ['SWout','LWin','LWout','winddir']\n",
    "    for var in unnecessary_vars:\n",
    "        if var not in df.columns.to_numpy():\n",
    "            df[var] = nans\n",
    "    # Need EITHER rh or dtemp\n",
    "    if 'dtemp' not in df.columns.to_numpy():\n",
    "        df['dtemp'] = nans\n",
    "    if 'rh' not in df.columns.to_numpy():\n",
    "        df['rh'] = nans\n",
    "    return df, fill_vars"
   ]
  },
  {
   "cell_type": "code",
   "execution_count": 12,
   "metadata": {},
   "outputs": [],
   "source": [
    "cell_coords = getERA5Coords(glac_no[0])\n",
    "df,_ = fill_and_remove_variables(df,cell_coords,drop_vars)\n",
    "vars = df.columns.to_numpy()\n",
    "redo_fill = False\n",
    "# For each variable, check how much data is there and fill by interpolation or GCM\n",
    "for var in vars:\n",
    "    n_NaN = ntimesteps - df[var].count()\n",
    "    if n_NaN > 0 and n_NaN <= ntimesteps * data_min_percentage: # if at least x% of data is there\n",
    "        logger.info(f'Variable {var} missing {n_NaN} values; filling by linear interpolation')\n",
    "    elif n_NaN > ntimesteps * data_min_percentage and n_NaN < ntimesteps: # less than x% is there; slash it and take from GCM\n",
    "        logger.info(f'Variable {var} missing a majority of values; filling from ERA5')\n",
    "        df.drop(var,axis=1)\n",
    "        redo_fill = True\n",
    "if redo_fill:\n",
    "    df,_ = fill_and_remove_variables(df,cell_coords)\n",
    "df = df.interpolate('linear')"
   ]
  },
  {
   "attachments": {},
   "cell_type": "markdown",
   "metadata": {},
   "source": [
    "## 6. Check for remaining data gaps\n",
    "Check the data count to look for big data gaps that weren't filled by interpolation. This likely indicates the sensor was down for a period or wasn't installed until some time into the date range. "
   ]
  },
  {
   "cell_type": "code",
   "execution_count": 13,
   "metadata": {},
   "outputs": [],
   "source": [
    "for var in df.columns.to_numpy():\n",
    "    if df[var].count() < ntimesteps and df[var].count() > 0:\n",
    "        nmissing = ntimesteps - df[var].count()\n",
    "        missing = df['LWin'][df['LWin'].isna()]\n",
    "        start_missing = str(missing.index[0])[0:10]\n",
    "        end_missing = str(missing.index[-1])[0:10]\n",
    "        logger.info(f'Variable {var} is still missing {nmissing} values between {start_missing} and {end_missing}')"
   ]
  },
  {
   "attachments": {},
   "cell_type": "markdown",
   "metadata": {},
   "source": [
    "## 7. Check units\n",
    "Check the units of each variable. Since the input file may not specify them, this check is done by reasonable range of values for common mistakes (Celsius/Kelvin, percent/decimal, degrees/radians). This will catch major errors, but if there is uncertainty about the data units, double check the data source and update this code as necessary!"
   ]
  },
  {
   "cell_type": "code",
   "execution_count": 14,
   "metadata": {},
   "outputs": [],
   "source": [
    "units = {'temp':'C','dtemp':'K','tp':'m','rh':'%',\n",
    "        'SWin':'J m-2','SWout':'J m-2','LWin':'J m-2','LWout':'J m-2',\n",
    "        'tcc':'0-1','wind':'m s-1','winddir':'deg','sp':'Pa'}\n",
    "if df['temp'].min() > 0:                # implies data in Kelvin\n",
    "    df['temp'] = df['temp'] - 273.15\n",
    "if df['rh'].max() < 1:                  # implies data in decimal\n",
    "    df['rh'] = df['rh'] * 100\n",
    "if df['winddir'].max() < 4:             # implies data in Radians\n",
    "    df['winddir'] = df['winddir'] * 180/np.pi\n",
    "if df['tcc'].min() > 1:                 # implies data in percentage; need in decimal\n",
    "    df['tcc'] = df['tcc'] / 100\n",
    "if df['tp'].max() > 1:\n",
    "    df['tp'] = df['tp'] / 1000\n",
    "\n",
    "# Additional corrections\n",
    "df['sp'] = df['sp'] * 1"
   ]
  },
  {
   "attachments": {},
   "cell_type": "markdown",
   "metadata": {},
   "source": [
    "## 8. Final check and export\n",
    "Print the dataframe one last time to make sure it looks right. There should be 12 columns total. Then export it!"
   ]
  },
  {
   "cell_type": "code",
   "execution_count": 15,
   "metadata": {},
   "outputs": [
    {
     "name": "stdout",
     "output_type": "stream",
     "text": [
      "                     temp   tp  wind   SWin  SWout  winddir       dtemp  \\\n",
      "2013-03-19 17:00:00 -24.1  NaN   5.5    0.0    0.0      NaN  246.094437   \n",
      "2013-03-19 18:00:00 -24.1  NaN   6.5    0.0    0.1      NaN  247.756287   \n",
      "2013-03-19 19:00:00 -24.2  NaN   7.5    0.0    0.1      NaN  248.400879   \n",
      "2013-03-19 20:00:00 -23.8  NaN  10.7    0.0    0.1      NaN  248.717590   \n",
      "2013-03-19 21:00:00 -23.6  NaN  10.6    0.0    0.0      NaN  249.403488   \n",
      "...                   ...  ...   ...    ...    ...      ...         ...   \n",
      "2019-04-27 05:00:00  -6.9  0.0   2.0    1.6    1.6    322.0  258.507080   \n",
      "2019-04-27 06:00:00  -7.0  0.0   2.6   18.5   14.1    328.0  259.367676   \n",
      "2019-04-27 07:00:00  -5.6  0.0   1.1  172.5  113.7    354.0  259.938263   \n",
      "2019-04-27 08:00:00  -3.8  0.0   0.4  301.7  197.8     71.0  260.324677   \n",
      "2019-04-27 09:00:00  -2.8  0.0   0.4  432.7  283.9     71.0  260.055328   \n",
      "\n",
      "                          tcc            sp  LWin  LWout  rh     z  \n",
      "2013-03-19 17:00:00  0.815284  85408.117188   NaN    NaN NaN  1725  \n",
      "2013-03-19 18:00:00  0.759785  85424.546875   NaN    NaN NaN  1725  \n",
      "2013-03-19 19:00:00  0.748615  85419.898438   NaN    NaN NaN  1725  \n",
      "2013-03-19 20:00:00  0.743580  85425.476562   NaN    NaN NaN  1725  \n",
      "2013-03-19 21:00:00  0.692964  85409.976562   NaN    NaN NaN  1725  \n",
      "...                       ...           ...   ...    ...  ..   ...  \n",
      "2019-04-27 05:00:00  0.015061  87008.968750   NaN    NaN NaN  1725  \n",
      "2019-04-27 06:00:00  0.006134  87096.312500   NaN    NaN NaN  1725  \n",
      "2019-04-27 07:00:00  0.000000  87111.296875   NaN    NaN NaN  1725  \n",
      "2019-04-27 08:00:00  0.000000  87141.789062   NaN    NaN NaN  1725  \n",
      "2019-04-27 09:00:00  0.000549  87208.046875   NaN    NaN NaN  1725  \n",
      "\n",
      "[53513 rows x 13 columns]\n"
     ]
    }
   ],
   "source": [
    "df['z'] = elev\n",
    "print(df)"
   ]
  },
  {
   "cell_type": "code",
   "execution_count": 50,
   "metadata": {},
   "outputs": [
    {
     "name": "stdout",
     "output_type": "stream",
     "text": [
      "0.0 0.00013379042311358803\n"
     ]
    }
   ],
   "source": [
    "print(np.min(df['tp']),np.mean(df['tp']))"
   ]
  },
  {
   "cell_type": "code",
   "execution_count": 51,
   "metadata": {},
   "outputs": [],
   "source": [
    "df.to_csv(export_fn)"
   ]
  },
  {
   "cell_type": "code",
   "execution_count": 18,
   "metadata": {},
   "outputs": [],
   "source": [
    "#################################################################"
   ]
  },
  {
   "cell_type": "code",
   "execution_count": 397,
   "metadata": {},
   "outputs": [
    {
     "data": {
      "text/plain": [
       "[<matplotlib.lines.Line2D at 0x7fcedd3f9fd0>]"
      ]
     },
     "execution_count": 397,
     "metadata": {},
     "output_type": "execute_result"
    },
    {
     "data": {
      "image/png": "[encoded data removed]",
      "text/plain": [
       "<Figure size 640x480 with 1 Axes>"
      ]
     },
     "metadata": {},
     "output_type": "display_data"
    }
   ],
   "source": [
    "plt.plot(df.index,df['tp'])"
   ]
  },
  {
   "cell_type": "markdown",
   "metadata": {},
   "source": [
    "## 9. (Optional) Calibrate precipitation multiplier (kp)\n",
    "Precipitation data is typically poor quality, especially during the accumulation season, so a multiplication factor is required to get reasonable amounts of snowfall. For this, winter mass balance data over the years of the AWS data is required. Specify this data filepath below."
   ]
  },
  {
   "cell_type": "code",
   "execution_count": 1,
   "metadata": {},
   "outputs": [
    {
     "ename": "NameError",
     "evalue": "name 'pd' is not defined",
     "output_type": "error",
     "traceback": [
      "\u001b[0;31m---------------------------------------------------------------------------\u001b[0m",
      "\u001b[0;31mNameError\u001b[0m                                 Traceback (most recent call last)",
      "\u001b[1;32m/home/claire/research/PyGEM-EB/pygem_eb/processing/process_AWS.ipynb Cell 30\u001b[0m in \u001b[0;36m4\n\u001b[1;32m      <a href='vscode-notebook-cell://wsl%2Bubuntu-22.04/home/claire/research/PyGEM-EB/pygem_eb/processing/process_AWS.ipynb#X41sdnNjb2RlLXJlbW90ZQ%3D%3D?line=1'>2</a>\u001b[0m mb_filepath \u001b[39m=\u001b[39m \u001b[39m'\u001b[39m\u001b[39m~/research/MB_data/Gulkana/Input_Gulkana_Glaciological_Data.csv\u001b[39m\u001b[39m'\u001b[39m\n\u001b[1;32m      <a href='vscode-notebook-cell://wsl%2Bubuntu-22.04/home/claire/research/PyGEM-EB/pygem_eb/processing/process_AWS.ipynb#X41sdnNjb2RlLXJlbW90ZQ%3D%3D?line=2'>3</a>\u001b[0m weather_filepath \u001b[39m=\u001b[39m \u001b[39m'\u001b[39m\u001b[39m~/research/MB_data/Gulkana/Input_Gulkana_Daily_Weather.csv\u001b[39m\u001b[39m'\u001b[39m\n\u001b[0;32m----> <a href='vscode-notebook-cell://wsl%2Bubuntu-22.04/home/claire/research/PyGEM-EB/pygem_eb/processing/process_AWS.ipynb#X41sdnNjb2RlLXJlbW90ZQ%3D%3D?line=3'>4</a>\u001b[0m mbdf \u001b[39m=\u001b[39m pd\u001b[39m.\u001b[39mread_csv(mb_filepath,index_col\u001b[39m=\u001b[39m\u001b[39m'\u001b[39m\u001b[39msite_name\u001b[39m\u001b[39m'\u001b[39m)\n\u001b[1;32m      <a href='vscode-notebook-cell://wsl%2Bubuntu-22.04/home/claire/research/PyGEM-EB/pygem_eb/processing/process_AWS.ipynb#X41sdnNjb2RlLXJlbW90ZQ%3D%3D?line=4'>5</a>\u001b[0m weatherdf \u001b[39m=\u001b[39m pd\u001b[39m.\u001b[39mread_csv(weather_filepath,index_col\u001b[39m=\u001b[39m\u001b[39m'\u001b[39m\u001b[39mDate\u001b[39m\u001b[39m'\u001b[39m)\n\u001b[1;32m      <a href='vscode-notebook-cell://wsl%2Bubuntu-22.04/home/claire/research/PyGEM-EB/pygem_eb/processing/process_AWS.ipynb#X41sdnNjb2RlLXJlbW90ZQ%3D%3D?line=5'>6</a>\u001b[0m sites \u001b[39m=\u001b[39m np\u001b[39m.\u001b[39munique(mbdf\u001b[39m.\u001b[39mindex)\n",
      "\u001b[0;31mNameError\u001b[0m: name 'pd' is not defined"
     ]
    }
   ],
   "source": [
    "# Load in mass balance and weather data (using daily weather)\n",
    "mb_filepath = '~/research/MB_data/Gulkana/Input_Gulkana_Glaciological_Data.csv'\n",
    "weather_filepath = '~/research/MB_data/Gulkana/Input_Gulkana_Daily_Weather.csv'\n",
    "mbdf = pd.read_csv(mb_filepath,index_col='site_name')\n",
    "weatherdf = pd.read_csv(weather_filepath,index_col='Date')\n",
    "sites = np.unique(mbdf.index)\n",
    "\n",
    "# Set time index for weather dataframe\n",
    "weatherstart = pd.to_datetime(weatherdf.index[0])\n",
    "weatherend = pd.to_datetime(weatherdf.index.to_numpy()[-1])\n",
    "weatherdf = weatherdf.set_index(pd.date_range(weatherstart,weatherend,freq='D'))\n",
    "\n",
    "for site in ['AB','B','D']:\n",
    "    # Extract site mass balance data\n",
    "    site_df = mbdf.loc[site].set_index('Year')\n",
    "    site_bw = site_df['bw'] - site_df['winter_ablation'].fillna(0)\n",
    "\n",
    "    # Check if site mass balance data exists in a smaller range than the weather data\n",
    "    if weatherstart.year < site_df.index[0]:\n",
    "        startyr = site_df.index[0]\n",
    "    else:\n",
    "        startyr = weatherstart.year\n",
    "    if weatherend.year > site_df.index[site_df.shape[0]-1]:\n",
    "        endyr = site_df.index[site_df.shape[0]-1]\n",
    "    else:\n",
    "        endyr = weatherend.year\n",
    "    years = np.arange(startyr,endyr)\n",
    "\n",
    "    # Adjust temperature to the site\n",
    "    site_elev = np.mean(site_df['elevation'])\n",
    "    site_temp = weatherdf['Temperature'] + 0.0065*(elev-site_elev)\n",
    "\n",
    "    # Build the annual precipitation sums\n",
    "    precip_yearly = []\n",
    "    for year in years:\n",
    "        # Get first day where the temperature is below freezing\n",
    "        for day in site_temp.index:\n",
    "            if site_temp.loc[day] < 0 and day.month > 6 and day.year == year:\n",
    "                break\n",
    "        season_start = day\n",
    "        season_end = pd.to_datetime(site_df['spring_date'].loc[year+1])\n",
    "\n",
    "        # Sum precipitation between the first snowfall and snowpit measurement\n",
    "        precip_sum = np.sum(weatherdf['Precipitation'].loc[season_start:season_end]) / 1000\n",
    "        precip_yearly.append(precip_sum)\n",
    "\n",
    "    X = np.array(precip_yearly[1:]).reshape(-1,1)\n",
    "    y = site_bw.loc[years[1]:years[-1]].to_numpy()\n",
    "    kp,res,_,_ = np.linalg.lstsq(X,y,rcond=None)\n",
    "    # print(1-res/np.sum(np.square(y-np.mean(y))))\n",
    "\n",
    "    plt.plot(X,X*kp,label=f'{site}: {kp[0]:.3f}')\n",
    "    plt.scatter(X,y)\n",
    "    plt.legend()\n",
    "    \n",
    "# optimize to get kp which matches winter accumulation to winter MB"
   ]
  },
  {
   "cell_type": "code",
   "execution_count": null,
   "metadata": {},
   "outputs": [],
   "source": [
    " # Storglaciaren: 08.00213, Gulkana: 01.00570, Artesonraju: 16.02444\n",
    "if glac_no in ['01.00570']:\n",
    "    lat = [63.34]\n",
    "    lon = [-145.5]\n",
    "elif glac_no in ['08.00213']:\n",
    "    lat = [67.88]\n",
    "    lon = [18.56]\n",
    "elif glac_no in ['16.02444']:\n",
    "    lat = [-8.95]\n",
    "    lon = [-77.63]"
   ]
  },
  {
   "cell_type": "code",
   "execution_count": null,
   "metadata": {},
   "outputs": [
    {
     "name": "stdout",
     "output_type": "stream",
     "text": [
      "<xarray.Dataset>\n",
      "Dimensions:    (longitude: 1, latitude: 1, time: 368184)\n",
      "Coordinates:\n",
      "  * longitude  (longitude) float32 -145.5\n",
      "  * latitude   (latitude) float32 63.34\n",
      "  * time       (time) datetime64[ns] 1980-01-01 ... 2021-12-31T23:00:00\n",
      "Data variables:\n",
      "    t2m        (time, latitude, longitude) float32 ...\n",
      "Attributes:\n",
      "    units:      K\n",
      "    long_name:  2 metre temperature\n"
     ]
    }
   ],
   "source": [
    "ds = xr.open_dataset(fp+'/../../ERA5/ERA5_hourly/ERA5_temp_hourly.nc')\n",
    "print(ds)"
   ]
  },
  {
   "cell_type": "code",
   "execution_count": null,
   "metadata": {},
   "outputs": [
    {
     "name": "stdout",
     "output_type": "stream",
     "text": [
      "0.14227333206614712 13.0\n"
     ]
    },
    {
     "data": {
      "text/plain": [
       "3742.5"
      ]
     },
     "execution_count": 9,
     "metadata": {},
     "output_type": "execute_result"
    }
   ],
   "source": [
    "start = eb_prms.startdate\n",
    "end = eb_prms.enddate\n",
    "dates = pd.date_range(start,end,freq='H')\n",
    "df = pd.read_csv('/home/claire/research/climate_data/AWS/Gulkana/LVL2/gulkana1725_hourly_LVL2.csv')\n",
    "data_start = pd.to_datetime(df.local_time[0])\n",
    "data_end = pd.to_datetime(df.local_time.to_numpy()[-1])\n",
    "df = df.set_index(pd.date_range(data_start,data_end,freq='H'))\n",
    "df = df.loc[start:end]\n",
    "vars = df.columns\n",
    "if 'Precip_Stage_Incremental' in vars:\n",
    "    df.Precip_Weighing_Incremental.fillna(df.Precip_Stage_Incremental*1.48, inplace=True)\n",
    "df = df.interpolate('time')\n",
    "AWS_temp = df['site_temp_USGS'].to_numpy() + eb_prms.lapserate*(eb_prms.bin_elev[1] - 1725)\n",
    "# original precip data is in mm w.e. so need to convert to m (/1000)\n",
    "AWS_precip = np.nan_to_num(df['Precip_Weighing_Incremental'].to_numpy())*(1+eb_prms.precgrad*(eb_prms.bin_elev[1] - 1725)) / 1000 \n",
    "prec = np.nan_to_num(df['Precip_Weighing_Incremental'].to_numpy())\n",
    "print(np.mean(prec),np.max(prec))\n",
    "np.sum(prec)"
   ]
  },
  {
   "cell_type": "code",
   "execution_count": null,
   "metadata": {},
   "outputs": [
    {
     "name": "stdout",
     "output_type": "stream",
     "text": [
      "2.4639354320521645\n"
     ]
    }
   ],
   "source": [
    "ds = xr.open_dataset('/home/claire/research/Output/EB/climateds.nc').isel(bin=1)\n",
    "ds = ds.sel(time=xr.DataArray(dates,dims=['time']))\n",
    "GCM_elev = 1329.3921\n",
    "GCM_temp = ds['bin_temp'].values + eb_prms.lapserate*(GCM_elev - eb_prms.bin_elev[1])\n",
    "GCM_precip = (ds['bin_prec'].values * (1+eb_prms.precgrad*(GCM_elev - eb_prms.bin_elev[1]))) # total hourly precip in m\n",
    "print(np.sum(GCM_precip))"
   ]
  },
  {
   "cell_type": "code",
   "execution_count": null,
   "metadata": {},
   "outputs": [
    {
     "name": "stdout",
     "output_type": "stream",
     "text": [
      "{'units': 'm', 'long_name': 'Total precipitation'}\n"
     ]
    }
   ],
   "source": [
    "precip_ds = xr.open_dataset('/home/claire/research/climate_data/ERA5/ERA5_hourly/ERA5_precip_hourly.nc')\n",
    "print(precip_ds.attrs)"
   ]
  },
  {
   "cell_type": "code",
   "execution_count": null,
   "metadata": {},
   "outputs": [
    {
     "data": {
      "image/png": "[encoded data removed]",
      "text/plain": [
       "<Figure size 800x500 with 2 Axes>"
      ]
     },
     "metadata": {},
     "output_type": "display_data"
    }
   ],
   "source": [
    "fig,(ax1,ax2) = plt.subplots(1,2,figsize=(8,5))\n",
    "ax1.plot(dates,GCM_temp,label='GCM')\n",
    "ax1.plot(dates,AWS_temp,label='AWS')\n",
    "ax2.plot(dates,np.cumsum(GCM_precip),label='GCM')\n",
    "ax2.plot(dates,np.cumsum(AWS_precip),label='AWS')\n",
    "ax1.axhline(np.mean(GCM_temp))\n",
    "ax1.axhline(np.mean(AWS_temp),color='orange')\n",
    "ax2.axhline(np.mean(GCM_precip))\n",
    "ax2.axhline(np.mean(AWS_precip),color='orange')\n",
    "ax1.set_ylabel('Air temperature (C)')\n",
    "ax2.set_ylabel('Precipitation (m w.e.)')\n",
    "ax1.legend()\n",
    "ax2.legend()\n",
    "plt.gcf().autofmt_xdate()\n",
    "plt.show()"
   ]
  },
  {
   "cell_type": "code",
   "execution_count": null,
   "metadata": {},
   "outputs": [],
   "source": [
    "df = pd.read_csv('/home/claire/research/climate_data/AWS/Gulkana/LVL2/gulkana1725_hourly_LVL2.csv')\n",
    "data_start = pd.to_datetime(df.local_time[0])\n",
    "data_end = pd.to_datetime(df.local_time.to_numpy()[-1])\n",
    "df = df.set_index(pd.date_range(data_start,data_end,freq='H'))\n",
    "vars = df.columns\n",
    "if 'Precip_Stage_Incremental' in vars:\n",
    "    df.Precip_Weighing_Incremental.fillna(df.Precip_Stage_Incremental*1.48, inplace=True)\n",
    "AWS_df = df.interpolate('time')"
   ]
  }
 ],
 "metadata": {
  "kernelspec": {
   "display_name": "cloned_pygem",
   "language": "python",
   "name": "python3"
  },
  "language_info": {
   "codemirror_mode": {
    "name": "ipython",
    "version": 3
   },
   "file_extension": ".py",
   "mimetype": "text/x-python",
   "name": "python",
   "nbconvert_exporter": "python",
   "pygments_lexer": "ipython3",
   "version": "3.8.13"
  },
  "orig_nbformat": 4
 },
 "nbformat": 4,
 "nbformat_minor": 2
}
