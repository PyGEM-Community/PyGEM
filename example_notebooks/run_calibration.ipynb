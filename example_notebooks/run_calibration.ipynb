{
 "cells": [
  {
   "cell_type": "markdown",
   "metadata": {},
   "source": [
    "# Python Glacier Evolution individual glacier calibration demo"
   ]
  },
  {
   "cell_type": "markdown",
   "metadata": {},
   "source": [
    "Brandon Tober, David Rounce<br>\n",
    "Carnegie Mellon University<br>\n",
    "20241220<br> <br>\n",
    "The onbjective of this notebook is to demonstrate the various calibration options of PyGEM. \n",
    "Regardless of the calibration option selected, a *<rgi_glacier_number>-modelprms_dict.json* file should be created within **~/pygem_data/Output/calibration/** which can then be used to run simulations. See [PyGEM's readthedocs](https://pygem.readthedocs.io/en/latest/calibration_options.html) for details on the various calibration options.\n",
    "<br> <br>\n",
    "The calibration options are each demonstrated below. Note, we recommend using the [MCMC](#MCMC-target) calibration option \n",
    "(Rounce et al. [2020a](https://www.cambridge.org/core/journals/journal-of-glaciology/article/quantifying-parameter-uncertainty-in-a-largescale-glacier-evolution-model-using-bayesian-inference-application-to-high-mountain-asia/61D8956E9A6C27CC1A5AEBFCDADC0432), [2020b](https://www.frontiersin.org/articles/10.3389/feart.2019.00331/full), [2023](https://www.science.org/doi/10.1126/science.abo1324)) as this enables the user to quantify the uncertainty associated with the model parameters in the simulations; however, it is very computationally expensive. The methods from [Huss and Hock (2015)](https://www.frontiersin.org/articles/10.3389/feart.2015.00054/full) provide a computationally cheap alternative. "
   ]
  },
  {
   "cell_type": "markdown",
   "metadata": {},
   "source": [
    "Note, in this notebook, any PyGEM Python scripts that are called will be preceeded by ```!```. In Jupyter Notebook, the ```!``` character is used to execute shell commands directly from a notebook cell. When you prefix a command with ```!```, Jupyter sends it to the system's command-line shell for execution, instead of interpreting it as Python code. Command-line arguments are also bracketed (e.g., ```{arg}```), when caling a command-line shell from within a Jupyter Notebook. If executing a given PyGEM script directly from one's terminal, remove the ```!``` character and brackets ```{}``` around arguments.\n",
    "\n",
    "Also note that some useful information for any PyGEM script can be displayed by running\n",
    "```!script -h```"
   ]
  },
  {
   "cell_type": "code",
   "execution_count": null,
   "metadata": {},
   "outputs": [],
   "source": [
    "### imports ###\n",
    "import os, sys, glob, json\n",
    "# pygem imports\n",
    "import pygem.setup.config as config\n",
    "# check for config\n",
    "config.ensure_config()\n",
    "# read the config\n",
    "pygem_prms = config.read_config()   # NOTE: ensure that your root path in ~/PyGEM/config.yaml points to\n",
    "                                    # the appropriate location. If any errors occur, check this first.\n",
    "rootpath=pygem_prms['root']"
   ]
  },
  {
   "cell_type": "code",
   "execution_count": null,
   "metadata": {},
   "outputs": [],
   "source": [
    "# take a look how to call the run_calibration script:\n",
    "!run_calibration -h"
   ]
  },
  {
   "cell_type": "code",
   "execution_count": null,
   "metadata": {},
   "outputs": [],
   "source": [
    "# specify glacier numbember (RGI6 id), we'll run Kaskawulsh in the Canadian Yukon\n",
    "glac_no = 1.16201\n",
    "# specify some variables that will remain constant for each calibration option\n",
    "yr0=2000    # reference period startyear\n",
    "yr1=2019    # reference period endyear\n",
    "gcm='ERA5'  # reference period GCM"
   ]
  },
  {
   "cell_type": "markdown",
   "metadata": {},
   "source": [
    "## HH2015\n",
    "The calibration option **HH2015** follows the calibration steps from [Huss and Hock (2015)](https://www.frontiersin.org/articles/10.3389/feart.2015.00054/full). Specifically, the precipitation factor is initially adjusted between 0.8-2.0. If agreement between the observed and modeled mass balance is not reached, then the degree-day factor of snow is adjusted between 1.75-4.5 mm $d^{-1}$ $K^{-1}$. Note that the ratio of the degree-day factor of ice to snow is set to 2, so both parameters are adjusted simultaneously. Lastly, if agreement is still not achieved, then the temperature bias is adjusted."
   ]
  },
  {
   "cell_type": "code",
   "execution_count": null,
   "metadata": {},
   "outputs": [],
   "source": [
    "# call run calibration\n",
    "calib_opt = 'HH2015'\n",
    "!run_calibration -rgi_glac_number {glac_no} -ref_startyear {yr0} -ref_endyear {yr1} -ref_gcm_name {gcm} -option_calibration {calib_opt}"
   ]
  },
  {
   "cell_type": "code",
   "execution_count": null,
   "metadata": {},
   "outputs": [],
   "source": [
    "# check the output - the parameter dictionary output should now have an `HH2015` key\n",
    "glacier_str = str(glac_no)\n",
    "reg = glacier_str.split('.')[0].zfill(2)\n",
    "calib_path = f\"{pygem_prms['root']}/Output/calibration/{reg}/{glacier_str}-modelprms_dict.json\"\n",
    "\n",
    "with open(calib_path, 'r') as f:\n",
    "    modelprms_dict = json.load(f)\n",
    "\n",
    "print(modelprms_dict['HH2015'])"
   ]
  },
  {
   "cell_type": "markdown",
   "metadata": {},
   "source": [
    "## HH2015mod\n",
    "The calibration option **HH2015mod** is a modification of the calibration steps from [Huss and Hock (2015)](https://www.frontiersin.org/articles/10.3389/feart.2015.00054/full) that are used to generate the prior distributions for the MCMC methods [(Rounce et al. 2020a)](https://www.cambridge.org/core/journals/journal-of-glaciology/article/quantifying-parameter-uncertainty-in-a-largescale-glacier-evolution-model-using-bayesian-inference-application-to-high-mountain-asia/61D8956E9A6C27CC1A5AEBFCDADC0432). Since the MCMC methods used degree-day factors of snow based on previous studies, only the precipitation factor and temperature bias are calibrated. The precipitation factor varies from 0.5-3 and if agreement is not reached between the observed and modeled mass balance, then the temperature bias is varied. Note the limits on the precipitation factor are estimated based on a rough estimate of the precipitation factors needed for the modeled winter mass balance of reference glacier to match the observations."
   ]
  },
  {
   "cell_type": "code",
   "execution_count": null,
   "metadata": {},
   "outputs": [],
   "source": [
    "# call run_calibration\n",
    "calib_opt = 'HH2015mod'\n",
    "!run_calibration -rgi_glac_number {glac_no} -ref_startyear {yr0} -ref_endyear {yr1} -ref_gcm_name {gcm} -option_calibration {calib_opt}"
   ]
  },
  {
   "cell_type": "code",
   "execution_count": null,
   "metadata": {},
   "outputs": [],
   "source": [
    "# check the output - the parameter dictionary output should now have an `HH2015mod` key\n",
    "with open(calib_path, 'r') as f:\n",
    "    modelprms_dict = json.load(f)\n",
    "\n",
    "print(modelprms_dict['HH2015mod'])"
   ]
  },
  {
   "cell_type": "markdown",
   "metadata": {},
   "source": [
    "## Emulator - applying HH2015mod\n",
    "The calibration option **emulator** creates an independent emulator for each glacier that is derived by performing 100 present-day simulations based on randomly sampled model parameter sets and then fitting a Gaussian Process to these parameter-response pairs. This model replaces the mass balance model within the MCMC sampler, which tests showed reduces the computational expense by two orders of magnitude.\n",
    "\n",
    "```{note}\n",
    "Note: The 'emulator' calibration option needs to be run before the ‘MCMC’ option.\n",
    "```"
   ]
  },
  {
   "cell_type": "code",
   "execution_count": null,
   "metadata": {},
   "outputs": [],
   "source": [
    "# call run_calibration\n",
    "calib_opt = 'emulator'\n",
    "!run_calibration -rgi_glac_number {glac_no} -ref_startyear {yr0} -ref_endyear {yr1} -ref_gcm_name {gcm} -option_calibration {calib_opt}"
   ]
  },
  {
   "cell_type": "code",
   "execution_count": null,
   "metadata": {},
   "outputs": [],
   "source": [
    "# check the output - the parameter dictionary output should now have an `emulator` key\n",
    "with open(calib_path, 'r') as f:\n",
    "    modelprms_dict = json.load(f)\n",
    "\n",
    "print(modelprms_dict['emulator'])"
   ]
  },
  {
   "cell_type": "markdown",
   "metadata": {},
   "source": [
    "```{note}\n",
    "Note: The 'emulator' calibration option stores all simulations used to derive the emulator in ~/pygem_data/Output/emulator/sims/\n",
    "```"
   ]
  },
  {
   "cell_type": "code",
   "execution_count": null,
   "metadata": {},
   "outputs": [],
   "source": [
    "%%bash -s \"$rootpath\" \"$reg\" \"$glac_no\"\n",
    "head $1/Output/emulator/sims/$2/$3-100_emulator_sims.csv"
   ]
  },
  {
   "cell_type": "markdown",
   "metadata": {},
   "source": [
    "<a id=\"MCMC-target\"></a>\n",
    "\n",
    "## Bayesian inference calibration using Markov Chain Monte Carlo methods\n",
    "The calibration option **MCMC** is the recommended option. Details of the methods are provided by Rounce et al. ([2020a](https://www.cambridge.org/core/journals/journal-of-glaciology/article/quantifying-parameter-uncertainty-in-a-largescale-glacier-evolution-model-using-bayesian-inference-application-to-high-mountain-asia/61D8956E9A6C27CC1A5AEBFCDADC0432), [2023](https://www.science.org/doi/10.1126/science.abo1324)). In short, Bayesian inference is performed using Markov Chain Monte Carlo (MCMC) methods, which requires a mass balance observation (including the uncertainty represented by a standard deviation) and prior distributions. In an ideal world, we would have enough data to use broad prior distributions (e.g., uniform distributions), but unfortunately the model is overparameterized meaning there are an infinite number of parameter sets that give us a perfect fit. We therefore must use an empirical Bayes approach by which we use a simple optimization scheme (the **HH2015mod** calibration option) to generate our prior distributions at the regional scale, and then use these prior distributions for the Bayesian inference. The prior distribution for the degree-day factor is based on previous data ([Braithwaite 2008](https://www.cambridge.org/core/journals/journal-of-glaciology/article/temperature-and-precipitation-climate-at-the-equilibriumline-altitude-of-glaciers-expressed-by-the-degreeday-factor-for-melting-snow/6C2362F61B7DE7F153247A039736D54C)), while the temperature bias and precipitation factor are derived using a simple optimization scheme based on each RGI Order 2 subregion. The temperature bias assumes a normal distribution and the precipitation factor assumes a gamma distribution to ensure positivity. Glacier-wide winter mass balance data ([WGMS 2020](https://wgms.ch/data_databaseversions/)) are used to determine a reasonable upper-level constraint for the precipitation factor for the simple optimization scheme. \n",
    "\n",
    "The MCMC methods thus require several steps. These steps can be skipped if the **emulator** calibration option has already been run for the region of interest and regional priors have been defined - if the file *~/pygem_data/Output/calibration/priors_region.csv* exists.<br>\n",
    "1. run the calibration with <em>option_calibration = 'emulator'</em> (as shown in previous cell). This creates an emulator that helps speed up the simulations within the MCMC methods and helps generate an initial calibration to generate the regional priors. Run this initial calibration:\n",
    "    ```\n",
    "    run_calibration -option_calibration emulator\n",
    "    ```\n",
    "2. The regional priors are then determined by running the following:\n",
    "    ```\n",
    "    run_mcmc_prior\n",
    "    ```\n",
    "    This will output a .csv file that has the distributions for the temperature bias and precipitation factors for each Order 2 RGI subregion. This file is located in `~/pygem_data/Output/calibration/`\n",
    "    <br><br>\n",
    "3. Once the regional priors are set, the MCMC methods can be performed.  \n",
    "    ```\n",
    "    run_calibration -option_calibration MCMC\n",
    "    ```\n",
    "    In order to reduce the file size, the parameter sets are thinned by a factor of 10. This is reasonable given the correlation between subsequent parameter sets during the Markov Chain, but can be adjusted if thinning is not desired (change `[calib]['MCMC_params']['thin_interval']` to 1 in the *~/PyGEM/config.yaml* configuration file).\n",
    "\n",
    "```{note}\n",
    "Note: 'MCMC_fullsim' is another calibration option that runs full model simulations within the MCMC methods instead of using the emulator. It is computationally very expensive but allows one to assess the emulators impact on the MCMC methods.\n",
    "```"
   ]
  },
  {
   "cell_type": "code",
   "execution_count": null,
   "metadata": {},
   "outputs": [],
   "source": [
    "# to demonstrate the MCMC calibration steps, we'll select a small region - this may still take some time if OGGM's preprocessed data is not yet downloaded\n",
    "# recall we need to first run the 'emulator' calibration option for an entire RGI region to develop regional priors\n",
    "# note this cell can be skipped if the desired region has already been calibrated using 'emulator' option\n",
    "# we'll also run in parallel to speed things up a bit\n",
    "calib_opt = 'emulator'\n",
    "region = 6\n",
    "num_cores=8     # change depending on how many cores you have/want to utilize\n",
    "!run_calibration -rgi_region01 {region} -ref_startyear {yr0} -ref_endyear {yr1} -ref_gcm_name {gcm} -option_calibration {calib_opt} -ncores {num_cores}"
   ]
  },
  {
   "cell_type": "code",
   "execution_count": null,
   "metadata": {},
   "outputs": [],
   "source": [
    "!run_mcmc_priors -h"
   ]
  },
  {
   "cell_type": "code",
   "execution_count": null,
   "metadata": {},
   "outputs": [],
   "source": [
    "# next, develop regional priors from 'emulator' calibration\n",
    "!run_mcmc_priors -rgi_region01 6 -v -p # optionally remove '-p' nad '-v' flags"
   ]
  },
  {
   "cell_type": "markdown",
   "metadata": {},
   "source": [
    "Take a quick look at the output regional priors dataset"
   ]
  },
  {
   "cell_type": "code",
   "execution_count": null,
   "metadata": {},
   "outputs": [],
   "source": [
    "%%bash -s \"$rootpath\"\n",
    "head $1/Output/calibration/priors_region.csv"
   ]
  },
  {
   "cell_type": "code",
   "execution_count": null,
   "metadata": {},
   "outputs": [],
   "source": [
    "# now one may run MCMC calibration, which will use the developed mass balance emulator for each glacier, as well as the regional priors\n",
    "# note, this can take a long time to run - performance is sped up dramatically on a supercomputer with many cores \n",
    "# to demonstrate, we'll simply cut the chain_length down - 10,000 to 20,000 samples is advisable for proper calibration and chain convergence\n",
    "calib_opt = 'MCMC'\n",
    "chain_length = 100\n",
    "!run_calibration -rgi_region01 {region} -ref_startyear {yr0} -ref_endyear {yr1} -ref_gcm_name {gcm} -option_calibration {calib_opt} -chain_length {chain_length} -ncores {num_cores}"
   ]
  },
  {
   "cell_type": "markdown",
   "metadata": {},
   "source": [
    "## Next: you are now ready to run simulations\n",
    "See, the *run_simulation.ipynb* Jupyter Notebook for demonstration."
   ]
  }
 ],
 "metadata": {
  "kernelspec": {
   "display_name": "pygem",
   "language": "python",
   "name": "python3"
  },
  "language_info": {
   "codemirror_mode": {
    "name": "ipython",
    "version": 3
   },
   "file_extension": ".py",
   "mimetype": "text/x-python",
   "name": "python",
   "nbconvert_exporter": "python",
   "pygments_lexer": "ipython3",
   "version": "3.12.7"
  }
 },
 "nbformat": 4,
 "nbformat_minor": 4
}
