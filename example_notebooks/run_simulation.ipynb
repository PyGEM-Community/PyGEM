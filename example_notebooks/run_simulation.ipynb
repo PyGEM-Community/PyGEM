{
 "cells": [
  {
   "cell_type": "markdown",
   "metadata": {},
   "source": [
    "# Python Glacier Evolution individual glacier simulation demo"
   ]
  },
  {
   "cell_type": "markdown",
   "metadata": {},
   "source": [
    "Brandon Tober, David Rounce<br>\n",
    "Carnegie Mellon University<br>\n",
    "20241025<br><br>\n",
    "To showcase the simulation functionality of PyGEM on an individual glacier, let's run a batch of CMIP6 simulations for Kaskawulsh glacier and look at the projected glacier runoff\n"
   ]
  },
  {
   "cell_type": "markdown",
   "metadata": {},
   "source": [
    "Note, in this notebook, any PyGEM Python scripts that are called will be preceeded by ```!```. In Jupyter Notebook, the ```!``` character is used to execute shell commands directly from a notebook cell. When you prefix a command with ```!```, Jupyter sends it to the system's command-line shell for execution, instead of interpreting it as Python code. Command-line arguments are also bracketed (e.g., ```{arg}```), when caling a command-line shell from within a Jupyter Notebook. If executing a given PyGEM script directly from one's terminal, remove the ```!``` character and brackets ```{}``` around arguments.\n",
    "\n",
    "Also note that some useful information for any PyGEM script can be displayed by running\n",
    "```!script -h```"
   ]
  },
  {
   "cell_type": "code",
   "execution_count": null,
   "metadata": {},
   "outputs": [],
   "source": [
    "### imports ###\n",
    "import os, sys, glob\n",
    "# pygem imports\n",
    "import pygem.setup.config as config\n",
    "# check for config\n",
    "config.ensure_config()\n",
    "# read the config\n",
    "pygem_prms = config.read_config()   # NOTE: ensure that your root path in ~/PyGEM/config.yaml points to\n",
    "                                    # the appropriate location. If any errors occur, check this first."
   ]
  },
  {
   "cell_type": "code",
   "execution_count": null,
   "metadata": {},
   "outputs": [],
   "source": [
    "# take a look how to call the run_simulation script:\n",
    "!run_simulation -h"
   ]
  },
  {
   "cell_type": "code",
   "execution_count": null,
   "metadata": {},
   "outputs": [],
   "source": [
    "# specify glacier numbember (RGI6 id), we'll run Kaskawulsh in the Canadian Yukon\n",
    "glac_no = 1.16201\n",
    "# specify which SSP scenarios we wish to run\n",
    "scenarios=['ssp245','ssp370','ssp585']\n",
    "# get list of all CMIP6 GCMs available on your machine\n",
    "gcms = glob.glob(f\"{pygem_prms['root']}/{pygem_prms['climate_paths']['cmip6_relpath']}/*/*{scenarios[0]}*.nc\")\n",
    "gcms = list(set([gcm.split('/')[-2] for gcm in gcms]))\n",
    "\n",
    "# optional, if only GCM(s) desired:  gcms = [x for x in gcms if any(substring in x for substring in ['CESM2', 'GFDL', 'MPI'])]"
   ]
  },
  {
   "cell_type": "markdown",
   "metadata": {},
   "source": [
    "Now loop through all scenarios/GCM pairs\n",
    "\n",
    "Use the command `run_simulation` to execute PyGEM's `run_simulation.py` script.<br>\n",
    "Change start and endyear if desired.<br>\n",
    "Note, if we wished to run multiple glaciers of interest, we could set the `glac_no` variable as a list of rgiid's such as `glac_no=[1.16201, 1.15645]`<br>\n",
    "We can also run an entire RGI region (or multiple) with the argument `rgi_region01` (e.g. for running RGI regions 1, 2, and 3: `-rgi_region01 1,2,3`). Note, remove the `rgi_glac_number` argument if running an entire region."
   ]
  },
  {
   "cell_type": "code",
   "execution_count": null,
   "metadata": {},
   "outputs": [],
   "source": [
    "for gcm in gcms:\n",
    "    for scenario in scenarios:\n",
    "        !run_simulation -rgi_glac_number {glac_no} -gcm_startyear 2000 -gcm_endyear 2100 -gcm_name {gcm} -scenario {scenario} -option_dynamics OGGM"
   ]
  },
  {
   "cell_type": "markdown",
   "metadata": {},
   "source": [
    "Excellent! If our simulations ran correctly, we should have a set of outputs for the CMIP6 multi-GCM ensemble for ssps 245, 370, 585. Let's investigate the results, with the goal of plotting the runoff, mass, area, and cross sectional geometry."
   ]
  },
  {
   "cell_type": "code",
   "execution_count": null,
   "metadata": {},
   "outputs": [],
   "source": [
    "### more imports ###\n",
    "import xarray as xr\n",
    "import matplotlib.pyplot as plt\n",
    "import json\n",
    "import numpy as np\n",
    "plt.rcParams[\"font.family\"] = \"arial\"\n",
    "plt.rcParams['font.size'] = 8\n",
    "plt.rcParams['legend.fontsize'] = 8"
   ]
  },
  {
   "cell_type": "code",
   "execution_count": null,
   "metadata": {},
   "outputs": [],
   "source": [
    "# specify where to look for results\n",
    "simdir = f\"{pygem_prms['root']}/Output/simulations/\""
   ]
  },
  {
   "cell_type": "code",
   "execution_count": null,
   "metadata": {},
   "outputs": [],
   "source": [
    "# create dictionary to hold stats on results for variables of interest for each scenario (runoff, mass, area)\n",
    "results = {}\n",
    "\n",
    "# loop through scenarios\n",
    "for scenario in scenarios:\n",
    "    results[scenario] = {}\n",
    "    # get all GCM outputs for given scenario\n",
    "    fns = glob.glob(simdir + f\"/{str(glac_no).split(\".\")[0].zfill(2)}/*/{scenario}/stats/{glac_no}*.nc\")\n",
    "    # initialize list to hold annual runoff values\n",
    "    annual_runoff = []\n",
    "    # note, PyGEM outputs monthly runoff, so we'll resample to annual values by summing\n",
    "    k = 'glac_runoff_monthly'\n",
    "    for f in sorted(fns):\n",
    "        ds = xr.open_dataset(f)[k][0]\n",
    "        # runoff is monthly, so sum to yealy vals\n",
    "        # print(ds.time)\n",
    "        ds_sum = ds.resample(time='YE').sum('time')\n",
    "        # append annual runoff to list\n",
    "        annual_runoff.append(ds_sum.values.tolist())\n",
    "    # stack all GCMs annual runoff\n",
    "    stacked_runoff = np.vstack(annual_runoff)\n",
    "    # get some metrics of multi-GCM results (mean, standard deviation, min, max)\n",
    "    mean_runoff = np.nanmean(stacked_runoff,axis=0)\n",
    "    std_runoff = np.nanstd(stacked_runoff,axis=0)\n",
    "    min_runoff = np.nanmin(stacked_runoff, axis=0)\n",
    "    max_runoff = np.nanmax(stacked_runoff, axis=0)\n",
    "    # add metrics to dictionary\n",
    "    results[scenario]['mean_runoff'] = mean_runoff.tolist()\n",
    "    results[scenario]['std_runoff'] = std_runoff.tolist()\n",
    "    results[scenario]['min_runoff'] = min_runoff.tolist()\n",
    "    results[scenario]['max_runoff'] = max_runoff.tolist()\n",
    "\n",
    "    # initialize list to hold annual area values\n",
    "    annual_area = []\n",
    "    k = 'glac_area_annual'\n",
    "    for f in sorted(fns):\n",
    "        ds = xr.open_dataset(f)[k][0]\n",
    "        # pull annual area and add to list\n",
    "        # note, PyGEM annual area is the area at the beginning of each model year\n",
    "        # to align with plotting the total runoff from each year, we'll take index [1:],\n",
    "        # inidicating we're analyzing values for the end of each model year\n",
    "        annual_area.append(ds.values[1:].tolist())\n",
    "    stacked_area = np.vstack(annual_area)\n",
    "    # get some metrics of multi-GCM results (mean, standard deviation, min, max)\n",
    "    mean_area = np.nanmean(stacked_area,axis=0)\n",
    "    std_area = np.nanstd(stacked_area,axis=0)\n",
    "    min_area = np.nanmin(stacked_area, axis=0)\n",
    "    max_area = np.nanmax(stacked_area, axis=0)\n",
    "    # add metrics to dictionary\n",
    "    results[scenario]['mean_area'] = mean_area.tolist()\n",
    "    results[scenario]['std_area'] = std_area.tolist()\n",
    "    results[scenario]['min_area'] = min_area.tolist()\n",
    "    results[scenario]['max_area'] = max_area.tolist()\n",
    "\n",
    "    # initialize list to hold annual mass values\n",
    "    annual_mass = []\n",
    "    k = 'glac_mass_annual'\n",
    "    for f in sorted(fns):\n",
    "        ds = xr.open_dataset(f)[k][0]\n",
    "        # pull annual mass and add to list\n",
    "        # note, PyGEM annual mass is the area at the beginning of each model year\n",
    "        # to align with plotting the total runoff from each year, we'll take index [1:],\n",
    "        # inidicating we're analyzing values for the end of each model year\n",
    "        annual_mass.append(ds.values[1:].tolist())\n",
    "        # get model years - note indexing [:-1]\n",
    "        # for a simulation that ran from 2000 thru 2100\n",
    "        year = (ds.year.values[:-1:]).tolist()\n",
    "    stacked_mass = np.vstack(annual_mass)\n",
    "    # get some metrics of multi-GCM results (mean, standard deviation, min, max)\n",
    "    mean_mass= np.nanmean(stacked_mass,axis=0)\n",
    "    std_mass = np.nanstd(stacked_mass,axis=0)\n",
    "    min_mass = np.nanmin(stacked_mass, axis=0)\n",
    "    max_mass = np.nanmax(stacked_mass, axis=0)\n",
    "    # add metrics to dictionary\n",
    "    results[scenario]['std_mass'] = std_mass.tolist()\n",
    "    results[scenario]['mean_mass'] = mean_mass.tolist()\n",
    "    results[scenario]['min_mass'] = min_mass.tolist()\n",
    "    results[scenario]['max_mass'] = max_mass.tolist()"
   ]
  },
  {
   "cell_type": "code",
   "execution_count": null,
   "metadata": {},
   "outputs": [],
   "source": [
    "### optional: save results to json file ###\n",
    "# with open('/Users/btober/Desktop/kaskawulsh_CMIP6_mass_area_runoff_2000_2100.json','w') as f:\n",
    "#     json.dump(results,f)"
   ]
  },
  {
   "cell_type": "markdown",
   "metadata": {},
   "source": [
    "Create three panel plot with normalized mass, area, and runoff for each scenario (multi-GCM mean and range)"
   ]
  },
  {
   "cell_type": "code",
   "execution_count": null,
   "metadata": {},
   "outputs": [],
   "source": [
    "# initialize figure\n",
    "fig,ax = plt.subplots(3,figsize=(4,7),sharex=True)\n",
    "# define colors - 3 color-blind friendly hex colors selected from colorbrewer2.org/\n",
    "c=['#7570b3','#1b9e77','#d95f02']\n",
    "# define transparency\n",
    "alpha=.25\n",
    "\n",
    "# loop through scenarios, plot normalized mass, area, and runoff, as well as inter-GCM range of each\n",
    "for i, scenario in enumerate(scenarios):\n",
    "    ax[0].plot(year,np.asarray(results[scenario]['mean_mass'])/results[scenario]['mean_mass'][0],zorder=2,c=c[i], label=scenario)\n",
    "    ax[0].fill_between(year,\n",
    "                        (np.asarray(results[scenario]['min_mass']) / results[scenario]['min_mass'][0]),\n",
    "                        (np.asarray(results[scenario]['max_mass'])/ results[scenario]['max_mass'][0]),\n",
    "                        alpha=alpha,\n",
    "                        zorder=3,\n",
    "                        color=c[i])\n",
    "    ax[1].plot(year,np.asarray(results[scenario]['mean_area'])/results[scenario]['mean_area'][0],zorder=2,c=c[i])\n",
    "    ax[1].fill_between(year,\n",
    "                        (np.asarray(results[scenario]['min_area']) / results[scenario]['min_area'][0]),\n",
    "                        (np.asarray(results[scenario]['max_area']) / results[scenario]['max_area'][0]),\n",
    "                        alpha=alpha,\n",
    "                        zorder=3,\n",
    "                        color=c[i])\n",
    "    ax[2].plot(year,np.asarray(results[scenario]['mean_runoff'])/results[scenario]['mean_runoff'][0],zorder=2,c=c[i])\n",
    "    ax[2].fill_between(year,\n",
    "                        (np.asarray(results[scenario]['min_runoff']) / results[scenario]['min_runoff'][0]),\n",
    "                        (np.asarray(results[scenario]['max_runoff']) / results[scenario]['max_runoff'][0]),\n",
    "                        alpha=alpha,\n",
    "                        zorder=3,\n",
    "                        color=c[i])\n",
    "\n",
    "# \"fake\" filled region to indicate range on legend\n",
    "ax[0].fill_between([],[],color='k',alpha=alpha,label='range')\n",
    "\n",
    "# create legend\n",
    "leg = ax[0].legend(fancybox=False,borderaxespad=0,handlelength=1)\n",
    "# increase linewidths in legend\n",
    "\n",
    "for line in leg.get_lines():\n",
    "    line.set_linewidth(2)\n",
    "# set x axis limits to temporal extent of our data\n",
    "ax[0].set_xlim([2000,2100])\n",
    "# create x and y axis labels\n",
    "ax[0].text(-0.25, 0.5, 'normalized glacier mass (-)', va='center', ha='center', rotation=90, transform=ax[0].transAxes)\n",
    "ax[1].text(-0.25, 0.5, 'normalized glacier area (-)', va='center', ha='center', rotation=90, transform=ax[1].transAxes)\n",
    "ax[2].text(-0.25, 0.5, 'normalized glacier runoff (-)', va='center', ha='center', rotation=90, transform=ax[2].transAxes)\n",
    "# title\n",
    "ax[0].text(.5, 1.1, 'Kaskawulsh Glacier CMIP6', va='center', ha='center', rotation=0, transform=ax[0].transAxes)\n",
    "fig.tight_layout()\n",
    "# save\n",
    "# fig.savefig(f'/Users/btober/Desktop/kaskawulsh_cmip6_mass_area_runoff_mean_range.png',dpi=400)"
   ]
  },
  {
   "cell_type": "markdown",
   "metadata": {},
   "source": [
    "Perhaps we're interested in the average runoff for each 20-year period???"
   ]
  },
  {
   "cell_type": "code",
   "execution_count": null,
   "metadata": {},
   "outputs": [],
   "source": [
    "# pull out the multi-GCM SSP585 mean annual runoff for Kaskawulsh glacier for each 20-year period\n",
    "periods = [(2001,2020),(2021,2040),(2041,2060),(2061,2080),(2081,2100)]\n",
    "for i, scenario in enumerate(scenarios):\n",
    "    print(scenario)\n",
    "    for period in periods:\n",
    "        inds = [year.index(val) for val in period]\n",
    "        runoff_avg = np.mean(results[scenario]['mean_runoff'][inds[0]:inds[1]+1])\n",
    "        runoff_sig = np.std(results[scenario]['mean_runoff'][inds[0]:inds[1]+1])\n",
    "        print(f\"{period[0]}:{period[1]} = {round(1e-9*runoff_avg,3)} +/- {round(1e-9*runoff_sig,3)} km3/yr\")"
   ]
  },
  {
   "cell_type": "markdown",
   "metadata": {},
   "source": [
    "Create a plot of the glacier geometry evolution for each scenario comparing the beginning of the simulation to the end"
   ]
  },
  {
   "cell_type": "code",
   "execution_count": null,
   "metadata": {},
   "outputs": [],
   "source": [
    "# initialize figure\n",
    "fig,ax = plt.subplots(1,figsize=(4,3))\n",
    "# define colors - 3 color-blind friendly hex colors selected from colorbrewer2.org/\n",
    "c=['#7570b3','#1b9e77','#d95f02']\n",
    "\n",
    "# loop through scenarios, get final model year thickness for each GCM, then take mean across all GCMs\n",
    "for i, scenario in enumerate(scenarios):\n",
    "    fns = glob.glob(simdir + f\"/{str(glac_no).split(\".\")[0].zfill(2)}/*/{scenario}/binned/{glac_no}*.nc\")\n",
    "    thicks = []\n",
    "    for j,f in enumerate(sorted(fns)):\n",
    "        ds = xr.open_dataset(f)                            # open netcdf dataset\n",
    "        thick = ds.bin_thick_annual[0].values[:,-1]        # pull thickness from last year. note, -1 index indicates last model year\n",
    "        thicks.append(thick)                               # append final year's thickness to list of all GCMs \n",
    "    # stack thickness and get mean across all GCMs\n",
    "    stacked_thick = np.vstack(thicks)\n",
    "    mean_thick = np.nanmean(stacked_thick,axis=0)\n",
    "    # plot mean thickness\n",
    "    ax.plot(ds.bin_distance[0].values*1e-3, ds.bin_surface_h_initial[0].values+mean_thick,ls='-',c=c[i], alpha=1, label=scenario)\n",
    "# plot initial thickness\n",
    "ax.plot(ds.bin_distance[0].values*1e-3, ds.bin_surface_h_initial[0].values+ds.bin_thick_annual[0].values[:,0],ls='-',c='gray',label='2000')\n",
    "# plot bed\n",
    "ax.plot(ds.bin_distance[0].values*1e-3, ds.bin_surface_h_initial[0].values,ls='-',c='k',label='bed')\n",
    "# create legend object\n",
    "leg = ax.legend(fancybox=False,borderaxespad=0,handlelength=1)\n",
    "# increase linewidths in legend\n",
    "for line in leg.get_lines():\n",
    "    line.set_linewidth(2)\n",
    "# set x and y axis limits to zoom in on area of interest\n",
    "ax.set_xlim([0,70])\n",
    "ax.set_ylim([750,3500])\n",
    "# create x and y axis labels\n",
    "ax.set_ylabel('elevation (m a.s.l.)')\n",
    "ax.set_xlabel('distance along flowline (km)')\n",
    "# modify ticks as desired\n",
    "ax.tick_params(axis='both', which='major', direction='inout', right=True)\n",
    "ax.tick_params(axis='both', which='minor', direction='in', right=True)\n",
    "# title\n",
    "ax.text(.5, 1.1, f'Kaskawulsh Glacier CMIP6', va='center', ha='center', rotation=0, transform=ax.transAxes)\n",
    "fig.tight_layout()\n",
    "# save\n",
    "# fig.savefig(f'/Users/btober/Desktop/kaskawulsh_cmip6_mean_geom.png')"
   ]
  }
 ],
 "metadata": {
  "kernelspec": {
   "display_name": "pygem",
   "language": "python",
   "name": "python3"
  },
  "language_info": {
   "codemirror_mode": {
    "name": "ipython",
    "version": 3
   },
   "file_extension": ".py",
   "mimetype": "text/x-python",
   "name": "python",
   "nbconvert_exporter": "python",
   "pygments_lexer": "ipython3",
   "version": "3.12.7"
  }
 },
 "nbformat": 4,
 "nbformat_minor": 4
}
